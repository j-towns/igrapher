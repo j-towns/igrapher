{
 "cells": [
  {
   "cell_type": "code",
   "execution_count": null,
   "metadata": {
    "collapsed": false
   },
   "outputs": [],
   "source": [
    "from IPython.display import display_javascript\n",
    "display_javascript(open(\"igrapher.js\"))\n",
    "from igrapher import IGrapherWidget"
   ]
  },
  {
   "cell_type": "code",
   "execution_count": null,
   "metadata": {
    "collapsed": false
   },
   "outputs": [],
   "source": [
    "IGrapherWidget()"
   ]
  },
  {
   "cell_type": "code",
   "execution_count": null,
   "metadata": {
    "collapsed": true
   },
   "outputs": [],
   "source": []
  }
 ],
 "metadata": {
  "kernelspec": {
   "display_name": "Python 3",
   "language": "python",
   "name": "python3"
  },
  "language_info": {
   "codemirror_mode": {
    "name": "ipython",
    "version": 3
   },
   "file_extension": ".py",
   "mimetype": "text/x-python",
   "name": "python",
   "nbconvert_exporter": "python",
   "pygments_lexer": "ipython3",
   "version": "3.5.1"
  },
  "widgets": {
   "state": {
    "8cb71c471b224ab3837829398e04e6dc": {
     "views": []
    },
    "9d7bab89f4bc4d2dba711aa3f62c7029": {
     "views": []
    },
    "ae30e127ad9a4b1a868f544815225c7a": {
     "views": []
    },
    "cb5cd4af88f0454590545694cb927e52": {
     "views": []
    },
    "d81f5ab9f6d84c00bc3194444d5d03ff": {
     "views": []
    },
    "ea1f96245f4d48eca5dfaf270860eff6": {
     "views": []
    },
    "feeac347f7ff4982a612881f516b441d": {
     "views": []
    },
    "ffb9cc7690d242afadfe434a243c98a6": {
     "views": []
    }
   },
   "version": "1.1.1"
  }
 },
 "nbformat": 4,
 "nbformat_minor": 0
}
